{
 "cells": [
  {
   "cell_type": "code",
   "execution_count": 5,
   "id": "5ac9cd51",
   "metadata": {},
   "outputs": [],
   "source": [
    "import datetime\n",
    "users = [\n",
    "    {\n",
    "        \"id\": 1,\n",
    "        \"first_name\": \"Corrie\",\n",
    "        \"last_name\": \"Van den Oord\",\n",
    "        \"email\": \"cvandenoord0@etsy.com\",\n",
    "        \"gender\": \"male\",\n",
    "        \"current_city\": \"Dallas\",\n",
    "        \"phone_numbers\": Row(mobile=\"+1 234 567 8901\", home=\"+1 234 567 8911\"),\n",
    "        \"courses\": [1, 2],\n",
    "        \"is_customer\": True,\n",
    "        \"amount_paid\": 1000.55,\n",
    "        \"customer_from\": datetime.date(2021, 1, 15),\n",
    "        \"last_updated_ts\": datetime.datetime(2021, 2, 10, 1, 15, 0)\n",
    "    },\n",
    "    {\n",
    "        \"id\": 2,\n",
    "        \"first_name\": \"Nikolaus\",\n",
    "        \"last_name\": \"Brewitt\",\n",
    "        \"email\": \"nbrewitt1@dailymail.co.uk\",\n",
    "        \"gender\": \"male\",\n",
    "        \"current_city\": \"Houston\",\n",
    "        \"phone_numbers\":  Row(mobile=\"+1 234 567 8923\", home=\"1 234 567 8934\"),\n",
    "        \"courses\": [3],\n",
    "        \"is_customer\": True,\n",
    "        \"amount_paid\": 900.0,\n",
    "        \"customer_from\": datetime.date(2021, 2, 14),\n",
    "        \"last_updated_ts\": datetime.datetime(2021, 2, 18, 3, 33, 0)\n",
    "    },\n",
    "    {\n",
    "        \"id\": 3,\n",
    "        \"first_name\": \"Orelie\",\n",
    "        \"last_name\": \"Penney\",\n",
    "        \"email\": \"openney2@vistaprint.com\",\n",
    "        \"gender\": \"female\",\n",
    "        \"current_city\": \"\",\n",
    "        \"phone_numbers\": Row(mobile=\"+1 714 512 9752\", home=\"+1 714 512 6601\"),\n",
    "        \"courses\": [2, 4],\n",
    "        \"is_customer\": True,\n",
    "        \"amount_paid\": 850.55,\n",
    "        \"customer_from\": datetime.date(2021, 1, 21),\n",
    "        \"last_updated_ts\": datetime.datetime(2021, 3, 15, 15, 16, 55)\n",
    "    },\n",
    "    {\n",
    "        \"id\": 4,\n",
    "        \"first_name\": \"Ashby\",\n",
    "        \"last_name\": \"Maddocks\",\n",
    "        \"email\": \"amaddocks3@home.pl\",\n",
    "        \"gender\": \"male\",\n",
    "        \"current_city\": \"San Fransisco\",\n",
    "        \"phone_numbers\": Row(mobile=None, home=None),\n",
    "        \"courses\": [],\n",
    "        \"is_customer\": False,\n",
    "        \"amount_paid\": None,\n",
    "        \"customer_from\": None,\n",
    "        \"last_updated_ts\": datetime.datetime(2021, 4, 10, 17, 45, 30)\n",
    "    },\n",
    "    {\n",
    "        \"id\": 5,\n",
    "        \"first_name\": \"Kurt\",\n",
    "        \"last_name\": \"Rome\",\n",
    "        \"email\": \"krome4@shutterfly.com\",\n",
    "        \"gender\": \"female\",\n",
    "        \"current_city\": None,\n",
    "        \"phone_numbers\": Row(mobile=\"+1 817 934 7142\", home=None),\n",
    "        \"courses\": [],\n",
    "        \"is_customer\": False,\n",
    "        \"amount_paid\": None,\n",
    "        \"customer_from\": None,\n",
    "        \"last_updated_ts\": datetime.datetime(2021, 4, 2, 0, 55, 18)\n",
    "    }\n",
    "]"
   ]
  },
  {
   "cell_type": "code",
   "execution_count": 2,
   "id": "32eaf94e",
   "metadata": {},
   "outputs": [
    {
     "name": "stderr",
     "output_type": "stream",
     "text": [
      "Setting default log level to \"WARN\".\n",
      "To adjust logging level use sc.setLogLevel(newLevel). For SparkR, use setLogLevel(newLevel).\n",
      "23/09/25 04:19:14 WARN NativeCodeLoader: Unable to load native-hadoop library for your platform... using builtin-java classes where applicable\n"
     ]
    }
   ],
   "source": [
    "import findspark\n",
    "findspark.init()\n",
    "from pyspark.sql import SparkSession\n",
    "spark = SparkSession.builder.appName(\"example\").getOrCreate()"
   ]
  },
  {
   "cell_type": "code",
   "execution_count": 3,
   "id": "4829cde3",
   "metadata": {},
   "outputs": [],
   "source": [
    "from pyspark.sql.functions import *\n",
    "from pyspark.sql.types import *"
   ]
  },
  {
   "cell_type": "code",
   "execution_count": 6,
   "id": "8fd8706a",
   "metadata": {},
   "outputs": [],
   "source": [
    "df=spark.createDataFrame(users)"
   ]
  },
  {
   "cell_type": "code",
   "execution_count": 7,
   "id": "3b69ff88",
   "metadata": {},
   "outputs": [
    {
     "name": "stderr",
     "output_type": "stream",
     "text": [
      "                                                                                \r"
     ]
    },
    {
     "name": "stdout",
     "output_type": "stream",
     "text": [
      "+-----------+-------+-------------+-------------+--------------------+----------+------+---+-----------+------------+-------------------+--------------------+\n",
      "|amount_paid|courses| current_city|customer_from|               email|first_name|gender| id|is_customer|   last_name|    last_updated_ts|       phone_numbers|\n",
      "+-----------+-------+-------------+-------------+--------------------+----------+------+---+-----------+------------+-------------------+--------------------+\n",
      "|    1000.55| [1, 2]|       Dallas|   2021-01-15|cvandenoord0@etsy...|    Corrie|  male|  1|       true|Van den Oord|2021-02-10 01:15:00|{+1 234 567 8901,...|\n",
      "|      900.0|    [3]|      Houston|   2021-02-14|nbrewitt1@dailyma...|  Nikolaus|  male|  2|       true|     Brewitt|2021-02-18 03:33:00|{+1 234 567 8923,...|\n",
      "|     850.55| [2, 4]|             |   2021-01-21|openney2@vistapri...|    Orelie|female|  3|       true|      Penney|2021-03-15 15:16:55|{+1 714 512 9752,...|\n",
      "|       null|     []|San Fransisco|         null|  amaddocks3@home.pl|     Ashby|  male|  4|      false|    Maddocks|2021-04-10 17:45:30|        {null, null}|\n",
      "|       null|     []|         null|         null|krome4@shutterfly...|      Kurt|female|  5|      false|        Rome|2021-04-02 00:55:18|{+1 817 934 7142,...|\n",
      "+-----------+-------+-------------+-------------+--------------------+----------+------+---+-----------+------------+-------------------+--------------------+\n",
      "\n"
     ]
    }
   ],
   "source": [
    "df.show()"
   ]
  },
  {
   "cell_type": "code",
   "execution_count": 8,
   "id": "02d5b1e3",
   "metadata": {},
   "outputs": [
    {
     "name": "stdout",
     "output_type": "stream",
     "text": [
      "+---+-------------+\n",
      "| id| current_city|\n",
      "+---+-------------+\n",
      "|  1|       Dallas|\n",
      "|  2|      Houston|\n",
      "|  3|             |\n",
      "|  4|San Fransisco|\n",
      "+---+-------------+\n",
      "\n"
     ]
    }
   ],
   "source": [
    "df\\\n",
    ".select(\"id\",\"current_city\")\\\n",
    ".where('current_city IS NOT NULL')\\\n",
    ".show()"
   ]
  },
  {
   "cell_type": "code",
   "execution_count": 9,
   "id": "14b3dfde",
   "metadata": {},
   "outputs": [
    {
     "name": "stdout",
     "output_type": "stream",
     "text": [
      "+---+-------------+-------------+\n",
      "| id| current_city|customer_from|\n",
      "+---+-------------+-------------+\n",
      "|  4|San Fransisco|         null|\n",
      "|  5|         null|         null|\n",
      "|  1|       Dallas|   2021-01-15|\n",
      "|  3|             |   2021-01-21|\n",
      "|  2|      Houston|   2021-02-14|\n",
      "+---+-------------+-------------+\n",
      "\n"
     ]
    }
   ],
   "source": [
    "df.select(\"id\",\"current_city\",\"customer_from\").orderBy(\"customer_from\").show()"
   ]
  },
  {
   "cell_type": "code",
   "execution_count": 10,
   "id": "64a484fe",
   "metadata": {},
   "outputs": [],
   "source": [
    "df1 = spark.read.option(\"header\",True).option('inferschema',True).csv(f'/home/labuser/raw/zipcode.csv')"
   ]
  },
  {
   "cell_type": "code",
   "execution_count": 11,
   "id": "cd12b095",
   "metadata": {},
   "outputs": [
    {
     "name": "stdout",
     "output_type": "stream",
     "text": [
      "+---+-------+--------+-------------------+-----+----------+\n",
      "| id|zipcode|    type|               city|state|population|\n",
      "+---+-------+--------+-------------------+-----+----------+\n",
      "|  1|    704|STANDARD|               null|   PR|     30100|\n",
      "|  2|    704|    null|PASEO COSTA DEL SUR|   PR|      null|\n",
      "|  3|    709|    null|       BDA SAN LUIS|   PR|      3700|\n",
      "|  4|  76166|  UNIQUE|  CINGULAR WIRELESS|   TX|     84000|\n",
      "|  5|  76177|STANDARD|               null|   TX|      null|\n",
      "|  1|    704|STANDARD|               null|   PR|     30100|\n",
      "|  1|    704|STANDARD|               null|   PR|     30100|\n",
      "+---+-------+--------+-------------------+-----+----------+\n",
      "\n"
     ]
    }
   ],
   "source": [
    "df1.show()"
   ]
  },
  {
   "cell_type": "code",
   "execution_count": 15,
   "id": "7bbd4029",
   "metadata": {},
   "outputs": [],
   "source": [
    "df1=df1.drop_duplicates()"
   ]
  },
  {
   "cell_type": "code",
   "execution_count": 16,
   "id": "8807cfb0",
   "metadata": {},
   "outputs": [
    {
     "data": {
      "text/plain": [
       "DataFrame[id: int, zipcode: int, type: string, city: string, state: string, population: int]"
      ]
     },
     "execution_count": 16,
     "metadata": {},
     "output_type": "execute_result"
    }
   ],
   "source": [
    "df1"
   ]
  },
  {
   "cell_type": "code",
   "execution_count": 17,
   "id": "f8847a4c",
   "metadata": {},
   "outputs": [
    {
     "name": "stdout",
     "output_type": "stream",
     "text": [
      "+---+-------+--------+-------------------+-----+----------+\n",
      "| id|zipcode|    type|               city|state|population|\n",
      "+---+-------+--------+-------------------+-----+----------+\n",
      "|  2|    704|    null|PASEO COSTA DEL SUR|   PR|      null|\n",
      "|  5|  76177|STANDARD|               null|   TX|      null|\n",
      "|  3|    709|    null|       BDA SAN LUIS|   PR|      3700|\n",
      "|  1|    704|STANDARD|               null|   PR|     30100|\n",
      "|  4|  76166|  UNIQUE|  CINGULAR WIRELESS|   TX|     84000|\n",
      "+---+-------+--------+-------------------+-----+----------+\n",
      "\n"
     ]
    }
   ],
   "source": [
    "df1.show()"
   ]
  },
  {
   "cell_type": "code",
   "execution_count": 19,
   "id": "941b0865",
   "metadata": {},
   "outputs": [
    {
     "name": "stdout",
     "output_type": "stream",
     "text": [
      "+---+-------+--------+-------------------+-----+----------+\n",
      "| id|zipcode|    type|               city|state|population|\n",
      "+---+-------+--------+-------------------+-----+----------+\n",
      "|  2|    704|    null|PASEO COSTA DEL SUR|   PR|      null|\n",
      "|  5|  76177|STANDARD|               null|   TX|      null|\n",
      "|  3|    709|    null|       BDA SAN LUIS|   PR|      3700|\n",
      "|  1|    704|STANDARD|               null|   PR|     30100|\n",
      "|  4|  76166|  UNIQUE|  CINGULAR WIRELESS|   TX|     84000|\n",
      "+---+-------+--------+-------------------+-----+----------+\n",
      "\n"
     ]
    }
   ],
   "source": [
    "df1.dropna('all').show()"
   ]
  },
  {
   "cell_type": "code",
   "execution_count": 20,
   "id": "37745251",
   "metadata": {},
   "outputs": [
    {
     "name": "stdout",
     "output_type": "stream",
     "text": [
      "+---+-------+--------+-----------------+-----+----------+\n",
      "| id|zipcode|    type|             city|state|population|\n",
      "+---+-------+--------+-----------------+-----+----------+\n",
      "|  5|  76177|STANDARD|             null|   TX|      null|\n",
      "|  1|    704|STANDARD|             null|   PR|     30100|\n",
      "|  4|  76166|  UNIQUE|CINGULAR WIRELESS|   TX|     84000|\n",
      "+---+-------+--------+-----------------+-----+----------+\n",
      "\n"
     ]
    }
   ],
   "source": [
    "df1.na.drop(subset='type').show()"
   ]
  },
  {
   "cell_type": "code",
   "execution_count": 23,
   "id": "2d6e7059",
   "metadata": {},
   "outputs": [
    {
     "name": "stdout",
     "output_type": "stream",
     "text": [
      "+---+-------+--------+-------------------+-----+----------+\n",
      "| id|zipcode|    type|               city|state|population|\n",
      "+---+-------+--------+-------------------+-----+----------+\n",
      "|  2|    704|     NEW|PASEO COSTA DEL SUR|   PR|      3000|\n",
      "|  5|  76177|STANDARD|               null|   TX|      3000|\n",
      "|  3|    709|     NEW|       BDA SAN LUIS|   PR|      3700|\n",
      "|  1|    704|STANDARD|               null|   PR|     30100|\n",
      "|  4|  76166|  UNIQUE|  CINGULAR WIRELESS|   TX|     84000|\n",
      "+---+-------+--------+-------------------+-----+----------+\n",
      "\n"
     ]
    }
   ],
   "source": [
    "df1.na.fill({'type':'NEW','population':3000}).show()"
   ]
  },
  {
   "cell_type": "code",
   "execution_count": 25,
   "id": "0deb15da",
   "metadata": {},
   "outputs": [
    {
     "ename": "AttributeError",
     "evalue": "'DataFrame' object has no attribute 'orderby'",
     "output_type": "error",
     "traceback": [
      "\u001b[0;31m---------------------------------------------------------------------------\u001b[0m",
      "\u001b[0;31mAttributeError\u001b[0m                            Traceback (most recent call last)",
      "Cell \u001b[0;32mIn[25], line 1\u001b[0m\n\u001b[0;32m----> 1\u001b[0m df1\u001b[38;5;241m.\u001b[39morderby(\u001b[38;5;124m'\u001b[39m\u001b[38;5;124mid\u001b[39m\u001b[38;5;124m'\u001b[39m)\u001b[38;5;241m.\u001b[39mshow()\n",
      "File \u001b[0;32m/opt/anaconda3/lib/python3.11/site-packages/pyspark/sql/dataframe.py:2977\u001b[0m, in \u001b[0;36mDataFrame.__getattr__\u001b[0;34m(self, name)\u001b[0m\n\u001b[1;32m   2944\u001b[0m \u001b[38;5;250m\u001b[39m\u001b[38;5;124;03m\"\"\"Returns the :class:`Column` denoted by ``name``.\u001b[39;00m\n\u001b[1;32m   2945\u001b[0m \n\u001b[1;32m   2946\u001b[0m \u001b[38;5;124;03m.. versionadded:: 1.3.0\u001b[39;00m\n\u001b[0;32m   (...)\u001b[0m\n\u001b[1;32m   2974\u001b[0m \u001b[38;5;124;03m+---+\u001b[39;00m\n\u001b[1;32m   2975\u001b[0m \u001b[38;5;124;03m\"\"\"\u001b[39;00m\n\u001b[1;32m   2976\u001b[0m \u001b[38;5;28;01mif\u001b[39;00m name \u001b[38;5;129;01mnot\u001b[39;00m \u001b[38;5;129;01min\u001b[39;00m \u001b[38;5;28mself\u001b[39m\u001b[38;5;241m.\u001b[39mcolumns:\n\u001b[0;32m-> 2977\u001b[0m     \u001b[38;5;28;01mraise\u001b[39;00m \u001b[38;5;167;01mAttributeError\u001b[39;00m(\n\u001b[1;32m   2978\u001b[0m         \u001b[38;5;124m\"\u001b[39m\u001b[38;5;124m'\u001b[39m\u001b[38;5;132;01m%s\u001b[39;00m\u001b[38;5;124m'\u001b[39m\u001b[38;5;124m object has no attribute \u001b[39m\u001b[38;5;124m'\u001b[39m\u001b[38;5;132;01m%s\u001b[39;00m\u001b[38;5;124m'\u001b[39m\u001b[38;5;124m\"\u001b[39m \u001b[38;5;241m%\u001b[39m (\u001b[38;5;28mself\u001b[39m\u001b[38;5;241m.\u001b[39m\u001b[38;5;18m__class__\u001b[39m\u001b[38;5;241m.\u001b[39m\u001b[38;5;18m__name__\u001b[39m, name)\n\u001b[1;32m   2979\u001b[0m     )\n\u001b[1;32m   2980\u001b[0m jc \u001b[38;5;241m=\u001b[39m \u001b[38;5;28mself\u001b[39m\u001b[38;5;241m.\u001b[39m_jdf\u001b[38;5;241m.\u001b[39mapply(name)\n\u001b[1;32m   2981\u001b[0m \u001b[38;5;28;01mreturn\u001b[39;00m Column(jc)\n",
      "\u001b[0;31mAttributeError\u001b[0m: 'DataFrame' object has no attribute 'orderby'"
     ]
    }
   ],
   "source": [
    "df1.orderby('id').show()"
   ]
  },
  {
   "cell_type": "code",
   "execution_count": 27,
   "id": "5846af4a",
   "metadata": {},
   "outputs": [
    {
     "name": "stdout",
     "output_type": "stream",
     "text": [
      "+---+-------+--------+-------------------+-----+----------+\n",
      "| id|zipcode|    type|               city|state|population|\n",
      "+---+-------+--------+-------------------+-----+----------+\n",
      "|  2|    704|    null|PASEO COSTA DEL SUR|   PR|      null|\n",
      "|  5|  76177|STANDARD|               null|   TX|      null|\n",
      "|  3|    709|    null|       BDA SAN LUIS|   PR|      3700|\n",
      "|  1|    704|STANDARD|               null|   PR|     30100|\n",
      "|  4|  76166|  UNIQUE|  CINGULAR WIRELESS|   TX|     84000|\n",
      "+---+-------+--------+-------------------+-----+----------+\n",
      "\n"
     ]
    }
   ],
   "source": [
    "df1.show()"
   ]
  },
  {
   "cell_type": "code",
   "execution_count": 28,
   "id": "8ba76954",
   "metadata": {},
   "outputs": [
    {
     "name": "stdout",
     "output_type": "stream",
     "text": [
      "+-----------+-------+-------------+-------------+--------------------+----------+------+---+-----------+------------+-------------------+--------------------+\n",
      "|amount_paid|courses| current_city|customer_from|               email|first_name|gender| id|is_customer|   last_name|    last_updated_ts|       phone_numbers|\n",
      "+-----------+-------+-------------+-------------+--------------------+----------+------+---+-----------+------------+-------------------+--------------------+\n",
      "|    1000.55| [1, 2]|       Dallas|   2021-01-15|cvandenoord0@etsy...|    Corrie|  male|  1|       true|Van den Oord|2021-02-10 01:15:00|{+1 234 567 8901,...|\n",
      "|      900.0|    [3]|      Houston|   2021-02-14|nbrewitt1@dailyma...|  Nikolaus|  male|  2|       true|     Brewitt|2021-02-18 03:33:00|{+1 234 567 8923,...|\n",
      "|     850.55| [2, 4]|             |   2021-01-21|openney2@vistapri...|    Orelie|female|  3|       true|      Penney|2021-03-15 15:16:55|{+1 714 512 9752,...|\n",
      "|       null|     []|San Fransisco|         null|  amaddocks3@home.pl|     Ashby|  male|  4|      false|    Maddocks|2021-04-10 17:45:30|        {null, null}|\n",
      "|       null|     []|         null|         null|krome4@shutterfly...|      Kurt|female|  5|      false|        Rome|2021-04-02 00:55:18|{+1 817 934 7142,...|\n",
      "+-----------+-------+-------------+-------------+--------------------+----------+------+---+-----------+------------+-------------------+--------------------+\n",
      "\n"
     ]
    }
   ],
   "source": [
    "df.show()"
   ]
  },
  {
   "cell_type": "code",
   "execution_count": 34,
   "id": "1944f30d",
   "metadata": {},
   "outputs": [
    {
     "name": "stdout",
     "output_type": "stream",
     "text": [
      "+---+-------------+-------------+\n",
      "| id| current_city|customer_from|\n",
      "+---+-------------+-------------+\n",
      "|  1|           LA|   2021-01-15|\n",
      "|  2|      Houston|   2021-02-14|\n",
      "|  3|             |   2021-01-21|\n",
      "|  4|San Fransisco|         null|\n",
      "|  5|         null|         null|\n",
      "+---+-------------+-------------+\n",
      "\n"
     ]
    }
   ],
   "source": [
    "df.select('id','current_city','customer_from').replace('Dallas','LA',subset='current_city').show()"
   ]
  },
  {
   "cell_type": "code",
   "execution_count": null,
   "id": "87794f9f",
   "metadata": {},
   "outputs": [],
   "source": []
  }
 ],
 "metadata": {
  "kernelspec": {
   "display_name": "Python 3 (ipykernel)",
   "language": "python",
   "name": "python3"
  },
  "language_info": {
   "codemirror_mode": {
    "name": "ipython",
    "version": 3
   },
   "file_extension": ".py",
   "mimetype": "text/x-python",
   "name": "python",
   "nbconvert_exporter": "python",
   "pygments_lexer": "ipython3",
   "version": "3.11.4"
  }
 },
 "nbformat": 4,
 "nbformat_minor": 5
}
